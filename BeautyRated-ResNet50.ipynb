{
 "cells": [
  {
   "cell_type": "code",
   "execution_count": 1,
   "id": "5425d7fb",
   "metadata": {},
   "outputs": [],
   "source": [
    "import pandas as pd"
   ]
  },
  {
   "cell_type": "code",
   "execution_count": 2,
   "id": "27b76222",
   "metadata": {},
   "outputs": [],
   "source": [
    "import os\n",
    "\n",
    "os.chdir(r\"D:\\MACHINE_LEARNING\\BeautyRated\")"
   ]
  },
  {
   "cell_type": "code",
   "execution_count": 3,
   "id": "888c0bf6",
   "metadata": {},
   "outputs": [
    {
     "name": "stdout",
     "output_type": "stream",
     "text": [
      "     ID     Image  Species  Rating (0-100)  Growth Agency  Path Attributes\n",
      "0     1  DSC_3455      NaN              41            NaN              NaN\n",
      "1     2  DSC_3457      NaN              46            NaN              NaN\n",
      "2     3  DSC_3459      NaN              43            NaN              NaN\n",
      "3     4  DSC_3460      NaN              43            NaN              NaN\n",
      "4     5  DSC_3461      NaN              43            NaN              NaN\n",
      "..   ..       ...      ...             ...            ...              ...\n",
      "143  49  DSC_3651      NaN              74            NaN              NaN\n",
      "144  50  DSC_3653      NaN              67            NaN              NaN\n",
      "145  51  DSC_3654      NaN              66            NaN              NaN\n",
      "146  52  DSC_3655      NaN              64            NaN              NaN\n",
      "147  53  DSC_3656      NaN              65            NaN              NaN\n",
      "\n",
      "[148 rows x 6 columns]\n"
     ]
    }
   ],
   "source": [
    "df = pd.read_csv(\"BeautyRated.csv\")\n",
    "print(df)"
   ]
  },
  {
   "cell_type": "code",
   "execution_count": 4,
   "id": "2a865d44",
   "metadata": {},
   "outputs": [
    {
     "name": "stdout",
     "output_type": "stream",
     "text": [
      "148\n"
     ]
    }
   ],
   "source": [
    "image_names = list(df[\"Image\"])\n",
    "print(len(image_names))"
   ]
  },
  {
   "cell_type": "code",
   "execution_count": 5,
   "id": "725a1b66",
   "metadata": {},
   "outputs": [
    {
     "name": "stdout",
     "output_type": "stream",
     "text": [
      "148\n"
     ]
    }
   ],
   "source": [
    "image_rating = [int(i)/100 for i in list(df[\"Rating (0-100)\"])]\n",
    "print(len(image_rating))"
   ]
  },
  {
   "cell_type": "code",
   "execution_count": 6,
   "id": "3ce0810f",
   "metadata": {},
   "outputs": [
    {
     "name": "stdout",
     "output_type": "stream",
     "text": [
      "DSC_3455  =  0.41\n"
     ]
    }
   ],
   "source": [
    "print(image_names[0], \" = \", image_rating[0])"
   ]
  },
  {
   "cell_type": "markdown",
   "id": "430705dd",
   "metadata": {},
   "source": [
    "<h6> Appending .JPG at end of the image names"
   ]
  },
  {
   "cell_type": "code",
   "execution_count": 7,
   "id": "591f3a55",
   "metadata": {},
   "outputs": [],
   "source": [
    "for index, image in enumerate(image_names):\n",
    "    image_names[index] += \".JPG\" "
   ]
  },
  {
   "cell_type": "code",
   "execution_count": 8,
   "id": "9f79b7b1",
   "metadata": {},
   "outputs": [
    {
     "name": "stdout",
     "output_type": "stream",
     "text": [
      "['DSC_3455.JPG', 'DSC_3457.JPG', 'DSC_3459.JPG', 'DSC_3460.JPG', 'DSC_3461.JPG', 'DSC_3464.JPG', 'DSC_3465.JPG', 'DSC_3466.JPG', 'DSC_3468.JPG', 'DSC_3469.JPG', 'DSC_3470.JPG', 'DSC_3471.JPG', 'DSC_3472.JPG', 'DSC_3473.JPG', 'DSC_3475.JPG', 'DSC_3476.JPG', 'DSC_3477.JPG', 'DSC_3478.JPG', 'DSC_3479.JPG', 'DSC_3482.JPG', 'DSC_3483.JPG', 'DSC_3484.JPG', 'DSC_3485.JPG', 'DSC_3487.JPG', 'DSC_3488.JPG', 'DSC_3489.JPG', 'DSC_3490.JPG', 'DSC_3492.JPG', 'DSC_3493.JPG', 'DSC_3494.JPG', 'DSC_3495.JPG', 'DSC_3497.JPG', 'DSC_3498.JPG', 'DSC_3499.JPG', 'DSC_3500.JPG', 'DSC_3501.JPG', 'DSC_3502.JPG', 'DSC_3503.JPG', 'DSC_3504.JPG', 'DSC_3505.JPG', 'DSC_3506.JPG', 'DSC_3507.JPG', 'DSC_3510.JPG', 'DSC_3511.JPG', 'DSC_3512.JPG', 'DSC_3513.JPG', 'DSC_3514.JPG', 'DSC_3515.JPG', 'DSC_3516.JPG', 'DSC_3520.JPG', 'DSC_3521.JPG', 'DSC_3522.JPG', 'DSC_3524.JPG', 'DSC_3525.JPG', 'DSC_3526.JPG', 'DSC_3527.JPG', 'DSC_3529.JPG', 'DSC_3530.JPG', 'DSC_3532.JPG', 'DSC_3534.JPG', 'DSC_3535.JPG', 'DSC_3537.JPG', 'DSC_3539.JPG', 'DSC_3541.JPG', 'DSC_3543.JPG', 'DSC_3545.JPG', 'DSC_3547.JPG', 'DSC_3548.JPG', 'DSC_3553.JPG', 'DSC_3555.JPG', 'DSC_3556.JPG', 'DSC_3557.JPG', 'DSC_3559.JPG', 'DSC_3560.JPG', 'DSC_3561.JPG', 'DSC_3562.JPG', 'DSC_3564.JPG', 'DSC_3565.JPG', 'DSC_3566.JPG', 'DSC_3567.JPG', 'DSC_3569.JPG', 'DSC_3570.JPG', 'DSC_3571.JPG', 'DSC_3572.JPG', 'DSC_3574.JPG', 'DSC_3575.JPG', 'DSC_3576.JPG', 'DSC_3577.JPG', 'DSC_3578.JPG', 'DSC_3580.JPG', 'DSC_3581.JPG', 'DSC_3582.JPG', 'DSC_3583.JPG', 'DSC_3584.JPG', 'DSC_3585.JPG', 'DSC_3588.JPG', 'DSC_3589.JPG', 'DSC_3590.JPG', 'DSC_3591.JPG', 'DSC_3593.JPG', 'DSC_3594.JPG', 'DSC_3595.JPG', 'DSC_3596.JPG', 'DSC_3598.JPG', 'DSC_3599.JPG', 'DSC_3600.JPG', 'DSC_3601.JPG', 'DSC_3608.JPG', 'DSC_3609.JPG', 'DSC_3610.JPG', 'DSC_3611.JPG', 'DSC_3613.JPG', 'DSC_3614.JPG', 'DSC_3615.JPG', 'DSC_3616.JPG', 'DSC_3618.JPG', 'DSC_3619.JPG', 'DSC_3620.JPG', 'DSC_3621.JPG', 'DSC_3623.JPG', 'DSC_3624.JPG', 'DSC_3625.JPG', 'DSC_3626.JPG', 'DSC_3627.JPG', 'DSC_3628.JPG', 'DSC_3630.JPG', 'DSC_3631.JPG', 'DSC_3632.JPG', 'DSC_3633.JPG', 'DSC_3634.JPG', 'DSC_3635.JPG', 'DSC_3636.JPG', 'DSC_3638.JPG', 'DSC_3639.JPG', 'DSC_3640.JPG', 'DSC_3641.JPG', 'DSC_3643.JPG', 'DSC_3644.JPG', 'DSC_3645.JPG', 'DSC_3646.JPG', 'DSC_3648.JPG', 'DSC_3649.JPG', 'DSC_3650.JPG', 'DSC_3651.JPG', 'DSC_3653.JPG', 'DSC_3654.JPG', 'DSC_3655.JPG', 'DSC_3656.JPG']\n"
     ]
    }
   ],
   "source": [
    "print(image_names)"
   ]
  },
  {
   "cell_type": "markdown",
   "id": "0ed5446c",
   "metadata": {},
   "source": [
    "<h6> Reading the images (Skip this if data is already pickled)"
   ]
  },
  {
   "cell_type": "code",
   "execution_count": 9,
   "id": "a82fee44",
   "metadata": {},
   "outputs": [
    {
     "name": "stdout",
     "output_type": "stream",
     "text": [
      "image processed... 0\n",
      "image processed... 1\n",
      "image processed... 2\n",
      "image processed... 3\n",
      "image processed... 4\n",
      "image processed... 5\n",
      "image processed... 6\n",
      "image processed... 7\n",
      "image processed... 8\n",
      "image processed... 9\n",
      "image processed... 10\n",
      "image processed... 11\n",
      "image processed... 12\n",
      "image processed... 13\n",
      "image processed... 14\n",
      "image processed... 15\n",
      "image processed... 16\n",
      "image processed... 17\n",
      "image processed... 18\n",
      "image processed... 19\n",
      "image processed... 20\n",
      "image processed... 21\n",
      "image processed... 22\n",
      "image processed... 23\n",
      "image processed... 24\n",
      "image processed... 25\n",
      "image processed... 26\n",
      "image processed... 27\n",
      "image processed... 28\n",
      "image processed... 29\n",
      "image processed... 30\n",
      "image processed... 31\n",
      "image processed... 32\n",
      "image processed... 33\n",
      "image processed... 34\n",
      "image processed... 35\n",
      "image processed... 36\n",
      "image processed... 37\n",
      "image processed... 38\n",
      "image processed... 39\n",
      "image processed... 40\n",
      "image processed... 41\n",
      "image processed... 42\n",
      "image processed... 43\n",
      "image processed... 44\n",
      "image processed... 45\n",
      "image processed... 46\n",
      "image processed... 47\n",
      "image processed... 48\n",
      "image processed... 49\n",
      "image processed... 50\n",
      "image processed... 51\n",
      "image processed... 52\n",
      "image processed... 53\n",
      "image processed... 54\n",
      "image processed... 55\n",
      "image processed... 56\n",
      "image processed... 57\n",
      "image processed... 58\n",
      "image processed... 59\n",
      "image processed... 60\n",
      "image processed... 61\n",
      "image processed... 62\n",
      "image processed... 63\n",
      "image processed... 64\n",
      "image processed... 65\n",
      "image processed... 66\n",
      "image processed... 67\n",
      "image processed... 68\n",
      "image processed... 69\n",
      "image processed... 70\n",
      "image processed... 71\n",
      "image processed... 72\n",
      "image processed... 73\n",
      "image processed... 74\n",
      "image processed... 75\n",
      "image processed... 76\n",
      "image processed... 77\n",
      "image processed... 78\n",
      "image processed... 79\n",
      "image processed... 80\n",
      "image processed... 81\n",
      "image processed... 82\n",
      "image processed... 83\n",
      "image processed... 84\n",
      "image processed... 85\n",
      "image processed... 86\n",
      "image processed... 87\n",
      "image processed... 88\n",
      "image processed... 89\n",
      "image processed... 90\n",
      "image processed... 91\n",
      "image processed... 92\n",
      "image processed... 93\n",
      "image processed... 94\n",
      "image processed... 95\n",
      "image processed... 96\n",
      "image processed... 97\n",
      "image processed... 98\n",
      "image processed... 99\n",
      "image processed... 100\n",
      "image processed... 101\n",
      "image processed... 102\n",
      "image processed... 103\n",
      "image processed... 104\n",
      "image processed... 105\n",
      "image processed... 106\n",
      "image processed... 107\n",
      "image processed... 108\n",
      "image processed... 109\n",
      "image processed... 110\n",
      "image processed... 111\n",
      "image processed... 112\n",
      "image processed... 113\n",
      "image processed... 114\n",
      "image processed... 115\n",
      "image processed... 116\n",
      "image processed... 117\n",
      "image processed... 118\n",
      "image processed... 119\n",
      "image processed... 120\n",
      "image processed... 121\n",
      "image processed... 122\n",
      "image processed... 123\n",
      "image processed... 124\n",
      "image processed... 125\n",
      "image processed... 126\n",
      "image processed... 127\n",
      "image processed... 128\n",
      "image processed... 129\n",
      "image processed... 130\n",
      "image processed... 131\n",
      "image processed... 132\n",
      "image processed... 133\n",
      "image processed... 134\n",
      "image processed... 135\n",
      "image processed... 136\n",
      "image processed... 137\n",
      "image processed... 138\n",
      "image processed... 139\n",
      "image processed... 140\n",
      "image processed... 141\n",
      "image processed... 142\n",
      "image processed... 143\n",
      "image processed... 144\n",
      "image processed... 145\n",
      "image processed... 146\n",
      "image processed... 147\n"
     ]
    }
   ],
   "source": [
    "import cv2\n",
    "\n",
    "os.chdir(r\"D:/MACHINE_LEARNING/BeautyRated/CompiledImages/\")\n",
    "data = []\n",
    "IMG_SIZE = 128\n",
    "\n",
    "for count, image in enumerate(image_names):\n",
    "    try:\n",
    "        img_array = cv2.imread(image)\n",
    "        img_array = cv2.resize(img_array, (IMG_SIZE, IMG_SIZE))\n",
    "        data.append(img_array/255.0)\n",
    "        print(\"image processed...\", count)\n",
    "    except Exception as e:\n",
    "        pass"
   ]
  },
  {
   "cell_type": "code",
   "execution_count": 10,
   "id": "4a60e47f",
   "metadata": {},
   "outputs": [],
   "source": [
    "import pickle\n",
    "\n",
    "with open(\"D:\\MACHINE_LEARNING\\BeautyRated\\pickled-images\\data.pkl\", 'wb') as f:\n",
    "    pickle.dump(data, f)"
   ]
  },
  {
   "cell_type": "code",
   "execution_count": 11,
   "id": "6b4686bf",
   "metadata": {},
   "outputs": [],
   "source": [
    "import pickle\n",
    "\n",
    "with open(\"D:\\MACHINE_LEARNING\\BeautyRated\\pickled-images\\data.pkl\", 'rb') as f:\n",
    "    temp = pickle.load(f)"
   ]
  },
  {
   "cell_type": "code",
   "execution_count": 12,
   "id": "d4244451",
   "metadata": {},
   "outputs": [
    {
     "data": {
      "text/plain": [
       "<matplotlib.image.AxesImage at 0x1ec0b96c070>"
      ]
     },
     "execution_count": 12,
     "metadata": {},
     "output_type": "execute_result"
    },
    {
     "data": {
      "image/png": "[encoded data removed]",
      "text/plain": [
       "<Figure size 432x288 with 1 Axes>"
      ]
     },
     "metadata": {
      "needs_background": "light"
     },
     "output_type": "display_data"
    }
   ],
   "source": [
    "import matplotlib.pyplot as plt\n",
    "\n",
    "plt.imshow(data[10])"
   ]
  },
  {
   "cell_type": "code",
   "execution_count": 13,
   "id": "55bb15db",
   "metadata": {},
   "outputs": [],
   "source": [
    "import numpy as np\n",
    "\n",
    "X = np.array(data)\n",
    "y = np.array(image_rating)"
   ]
  },
  {
   "cell_type": "code",
   "execution_count": 14,
   "id": "1dabeb3b",
   "metadata": {},
   "outputs": [
    {
     "name": "stdout",
     "output_type": "stream",
     "text": [
      "<class 'numpy.ndarray'>\n",
      "(148, 128, 128, 3)\n",
      "<class 'numpy.ndarray'>\n",
      "(148,)\n"
     ]
    }
   ],
   "source": [
    "print(type(X))\n",
    "print(X.shape)\n",
    "print(type(y))\n",
    "print(y.shape)"
   ]
  },
  {
   "cell_type": "code",
   "execution_count": 15,
   "id": "5ffed2bf",
   "metadata": {},
   "outputs": [
    {
     "name": "stdout",
     "output_type": "stream",
     "text": [
      "[0.41 0.46 0.43 0.43 0.43 0.86 0.78 0.94 0.62 0.73]\n",
      "[[[[0.03137255 0.04705882 0.05098039]\n",
      "   [0.02745098 0.03529412 0.03921569]\n",
      "   [0.02745098 0.04705882 0.03921569]\n",
      "   ...\n",
      "   [0.02352941 0.03529412 0.03529412]\n",
      "   [0.02352941 0.04313725 0.03921569]\n",
      "   [0.02352941 0.04313725 0.04313725]]\n",
      "\n",
      "  [[0.02352941 0.03921569 0.05098039]\n",
      "   [0.02352941 0.04313725 0.04705882]\n",
      "   [0.03137255 0.04313725 0.03529412]\n",
      "   ...\n",
      "   [0.01960784 0.04705882 0.04313725]\n",
      "   [0.01960784 0.04313725 0.03921569]\n",
      "   [0.01960784 0.03921569 0.03529412]]\n",
      "\n",
      "  [[0.03529412 0.05490196 0.05098039]\n",
      "   [0.03137255 0.04313725 0.03529412]\n",
      "   [0.02352941 0.04313725 0.03529412]\n",
      "   ...\n",
      "   [0.03529412 0.05490196 0.05882353]\n",
      "   [0.02745098 0.04705882 0.05098039]\n",
      "   [0.01176471 0.05490196 0.04705882]]\n",
      "\n",
      "  ...\n",
      "\n",
      "  [[0.05098039 0.03921569 0.0745098 ]\n",
      "   [0.04705882 0.03921569 0.08627451]\n",
      "   [0.04705882 0.03921569 0.08627451]\n",
      "   ...\n",
      "   [0.05490196 0.05098039 0.06666667]\n",
      "   [0.03137255 0.04313725 0.05882353]\n",
      "   [0.02745098 0.03921569 0.05490196]]\n",
      "\n",
      "  [[0.0627451  0.05098039 0.0745098 ]\n",
      "   [0.05490196 0.0627451  0.07843137]\n",
      "   [0.04313725 0.04705882 0.0627451 ]\n",
      "   ...\n",
      "   [0.05098039 0.05098039 0.06666667]\n",
      "   [0.02745098 0.04313725 0.0627451 ]\n",
      "   [0.02745098 0.04313725 0.0627451 ]]\n",
      "\n",
      "  [[0.05098039 0.04313725 0.07843137]\n",
      "   [0.06666667 0.05490196 0.09019608]\n",
      "   [0.04313725 0.03921569 0.0745098 ]\n",
      "   ...\n",
      "   [0.05098039 0.04313725 0.06666667]\n",
      "   [0.02745098 0.04313725 0.0627451 ]\n",
      "   [0.05490196 0.05490196 0.07843137]]]]\n"
     ]
    }
   ],
   "source": [
    "print(y[:10])\n",
    "print(X[:1])"
   ]
  },
  {
   "cell_type": "code",
   "execution_count": 16,
   "id": "66ad0685",
   "metadata": {},
   "outputs": [],
   "source": [
    "input_shape = (IMG_SIZE, IMG_SIZE, 3)"
   ]
  },
  {
   "cell_type": "code",
   "execution_count": 17,
   "id": "cbbcd3c8",
   "metadata": {},
   "outputs": [],
   "source": [
    "import tensorflow as tf\n",
    "from tensorflow import keras\n",
    "from tensorflow.keras.layers import Conv2D, Conv2DTranspose, Input, Flatten, Dense, Reshape, MaxPooling2D, Dropout\n",
    "from tensorflow.keras.models import Model, Sequential\n",
    "from tensorflow.keras.optimizers import Adam\n",
    "from tensorflow.keras.applications import ResNet50\n"
   ]
  },
  {
   "cell_type": "markdown",
   "id": "cf6791be",
   "metadata": {},
   "source": [
    "<h6> Resnet50 is set to trainable (uncomment line 5 to make it untrainable"
   ]
  },
  {
   "cell_type": "code",
   "execution_count": 18,
   "id": "f2eaf643",
   "metadata": {},
   "outputs": [
    {
     "name": "stdout",
     "output_type": "stream",
     "text": [
      "Model: \"sequential\"\n",
      "_________________________________________________________________\n",
      "Layer (type)                 Output Shape              Param #   \n",
      "=================================================================\n",
      "resnet50 (Functional)        (None, 2048)              23587712  \n",
      "_________________________________________________________________\n",
      "dense (Dense)                (None, 1)                 2049      \n",
      "=================================================================\n",
      "Total params: 23,589,761\n",
      "Trainable params: 23,536,641\n",
      "Non-trainable params: 53,120\n",
      "_________________________________________________________________\n",
      "None\n"
     ]
    }
   ],
   "source": [
    "resnet = ResNet50(include_top=False, pooling='avg')\n",
    "model = Sequential()\n",
    "model.add(resnet)\n",
    "model.add(Dense(1))\n",
    "# model.layers[0].trainable = False\n",
    "\n",
    "print(model.summary())"
   ]
  },
  {
   "cell_type": "code",
   "execution_count": 19,
   "id": "b3fcd6c5",
   "metadata": {},
   "outputs": [],
   "source": [
    "model.compile(loss='mean_squared_error', optimizer=Adam())"
   ]
  },
  {
   "cell_type": "markdown",
   "id": "c531bebe",
   "metadata": {},
   "source": [
    "<h6> Found that around 100 epochs the validation accuracy goes down"
   ]
  },
  {
   "cell_type": "code",
   "execution_count": 29,
   "id": "6645c99e",
   "metadata": {},
   "outputs": [
    {
     "name": "stdout",
     "output_type": "stream",
     "text": [
      "Epoch 1/100\n",
      "14/14 [==============================] - 2s 125ms/step - loss: 0.0075 - val_loss: 0.4948\n",
      "Epoch 2/100\n",
      "14/14 [==============================] - 2s 114ms/step - loss: 0.0104 - val_loss: 0.4917\n",
      "Epoch 3/100\n",
      "14/14 [==============================] - 2s 114ms/step - loss: 0.0142 - val_loss: 0.4967\n",
      "Epoch 4/100\n",
      "14/14 [==============================] - 2s 114ms/step - loss: 0.0247 - val_loss: 0.5001\n",
      "Epoch 5/100\n",
      "14/14 [==============================] - 2s 114ms/step - loss: 0.0192 - val_loss: 0.4965\n",
      "Epoch 6/100\n",
      "14/14 [==============================] - 2s 113ms/step - loss: 0.0077 - val_loss: 0.4948\n",
      "Epoch 7/100\n",
      "14/14 [==============================] - 2s 113ms/step - loss: 0.0108 - val_loss: 0.4929\n",
      "Epoch 8/100\n",
      "14/14 [==============================] - 2s 114ms/step - loss: 0.0094 - val_loss: 0.4943\n",
      "Epoch 9/100\n",
      "14/14 [==============================] - 2s 115ms/step - loss: 0.0079 - val_loss: 0.4916\n",
      "Epoch 10/100\n",
      "14/14 [==============================] - 2s 114ms/step - loss: 0.0075 - val_loss: 0.4938\n",
      "Epoch 11/100\n",
      "14/14 [==============================] - 2s 113ms/step - loss: 0.0053 - val_loss: 0.4964\n",
      "Epoch 12/100\n",
      "14/14 [==============================] - 2s 115ms/step - loss: 0.0030 - val_loss: 0.4942\n",
      "Epoch 13/100\n",
      "14/14 [==============================] - 2s 115ms/step - loss: 0.0039 - val_loss: 0.4925\n",
      "Epoch 14/100\n",
      "14/14 [==============================] - 2s 116ms/step - loss: 0.0043 - val_loss: 0.4864\n",
      "Epoch 15/100\n",
      "14/14 [==============================] - 2s 116ms/step - loss: 0.0031 - val_loss: 0.4858\n",
      "Epoch 16/100\n",
      "14/14 [==============================] - 2s 117ms/step - loss: 0.0024 - val_loss: 0.4849\n",
      "Epoch 17/100\n",
      "14/14 [==============================] - 2s 115ms/step - loss: 0.0042 - val_loss: 0.4787\n",
      "Epoch 18/100\n",
      "14/14 [==============================] - 2s 115ms/step - loss: 0.0124 - val_loss: 0.4675\n",
      "Epoch 19/100\n",
      "14/14 [==============================] - 2s 115ms/step - loss: 0.0064 - val_loss: 0.4540\n",
      "Epoch 20/100\n",
      "14/14 [==============================] - 2s 116ms/step - loss: 0.0053 - val_loss: 0.4473\n",
      "Epoch 21/100\n",
      "14/14 [==============================] - 2s 115ms/step - loss: 0.0056 - val_loss: 0.4394\n",
      "Epoch 22/100\n",
      "14/14 [==============================] - 2s 116ms/step - loss: 0.0057 - val_loss: 0.4299\n",
      "Epoch 23/100\n",
      "14/14 [==============================] - 2s 117ms/step - loss: 0.0093 - val_loss: 0.4170\n",
      "Epoch 24/100\n",
      "14/14 [==============================] - 2s 116ms/step - loss: 0.0081 - val_loss: 0.4088\n",
      "Epoch 25/100\n",
      "14/14 [==============================] - 2s 115ms/step - loss: 0.0062 - val_loss: 0.3958\n",
      "Epoch 26/100\n",
      "14/14 [==============================] - 2s 115ms/step - loss: 0.0063 - val_loss: 0.3908\n",
      "Epoch 27/100\n",
      "14/14 [==============================] - 2s 114ms/step - loss: 0.0053 - val_loss: 0.3691\n",
      "Epoch 28/100\n",
      "14/14 [==============================] - 2s 115ms/step - loss: 0.0063 - val_loss: 0.3601\n",
      "Epoch 29/100\n",
      "14/14 [==============================] - 2s 116ms/step - loss: 0.0114 - val_loss: 0.3468\n",
      "Epoch 30/100\n",
      "14/14 [==============================] - 2s 114ms/step - loss: 0.0196 - val_loss: 0.3388\n",
      "Epoch 31/100\n",
      "14/14 [==============================] - 2s 115ms/step - loss: 0.0083 - val_loss: 0.3061\n",
      "Epoch 32/100\n",
      "14/14 [==============================] - 2s 115ms/step - loss: 0.0116 - val_loss: 0.3000\n",
      "Epoch 33/100\n",
      "14/14 [==============================] - 2s 114ms/step - loss: 0.0173 - val_loss: 0.2586\n",
      "Epoch 34/100\n",
      "14/14 [==============================] - 2s 115ms/step - loss: 0.0060 - val_loss: 0.2387\n",
      "Epoch 35/100\n",
      "14/14 [==============================] - 2s 116ms/step - loss: 0.0048 - val_loss: 0.2169\n",
      "Epoch 36/100\n",
      "14/14 [==============================] - 2s 116ms/step - loss: 0.0023 - val_loss: 0.1961\n",
      "Epoch 37/100\n",
      "14/14 [==============================] - 2s 116ms/step - loss: 0.0031 - val_loss: 0.1750\n",
      "Epoch 38/100\n",
      "14/14 [==============================] - 2s 114ms/step - loss: 0.0032 - val_loss: 0.1567\n",
      "Epoch 39/100\n",
      "14/14 [==============================] - 2s 116ms/step - loss: 0.0101 - val_loss: 0.1234\n",
      "Epoch 40/100\n",
      "14/14 [==============================] - 2s 114ms/step - loss: 0.0042 - val_loss: 0.1087\n",
      "Epoch 41/100\n",
      "14/14 [==============================] - 2s 115ms/step - loss: 0.0107 - val_loss: 0.1008\n",
      "Epoch 42/100\n",
      "14/14 [==============================] - 2s 114ms/step - loss: 0.0046 - val_loss: 0.0659\n",
      "Epoch 43/100\n",
      "14/14 [==============================] - 2s 116ms/step - loss: 0.0164 - val_loss: 0.0662\n",
      "Epoch 44/100\n",
      "14/14 [==============================] - 2s 118ms/step - loss: 0.0099 - val_loss: 0.0689\n",
      "Epoch 45/100\n",
      "14/14 [==============================] - 2s 114ms/step - loss: 0.0215 - val_loss: 0.0331\n",
      "Epoch 46/100\n",
      "14/14 [==============================] - 2s 114ms/step - loss: 0.0117 - val_loss: 0.0403\n",
      "Epoch 47/100\n",
      "14/14 [==============================] - 2s 116ms/step - loss: 0.0097 - val_loss: 0.0236\n",
      "Epoch 48/100\n",
      "14/14 [==============================] - 2s 116ms/step - loss: 0.0061 - val_loss: 0.0215\n",
      "Epoch 49/100\n",
      "14/14 [==============================] - 2s 114ms/step - loss: 0.0042 - val_loss: 0.0191\n",
      "Epoch 50/100\n",
      "14/14 [==============================] - 2s 115ms/step - loss: 0.0054 - val_loss: 0.0164\n",
      "Epoch 51/100\n",
      "14/14 [==============================] - 2s 115ms/step - loss: 0.0039 - val_loss: 0.0178\n",
      "Epoch 52/100\n",
      "14/14 [==============================] - 2s 115ms/step - loss: 0.0085 - val_loss: 0.0157\n",
      "Epoch 53/100\n",
      "14/14 [==============================] - 2s 115ms/step - loss: 0.0140 - val_loss: 0.0181\n",
      "Epoch 54/100\n",
      "14/14 [==============================] - 2s 114ms/step - loss: 0.0053 - val_loss: 0.0135\n",
      "Epoch 55/100\n",
      "14/14 [==============================] - 2s 114ms/step - loss: 0.0048 - val_loss: 0.0122\n",
      "Epoch 56/100\n",
      "14/14 [==============================] - 2s 115ms/step - loss: 0.0043 - val_loss: 0.0102\n",
      "Epoch 57/100\n",
      "14/14 [==============================] - 2s 114ms/step - loss: 0.0038 - val_loss: 0.0088\n",
      "Epoch 58/100\n",
      "14/14 [==============================] - 2s 115ms/step - loss: 0.0058 - val_loss: 0.0122\n",
      "Epoch 59/100\n",
      "14/14 [==============================] - 2s 115ms/step - loss: 0.0028 - val_loss: 0.0093\n",
      "Epoch 60/100\n",
      "14/14 [==============================] - 2s 117ms/step - loss: 0.0059 - val_loss: 0.0083\n",
      "Epoch 61/100\n",
      "14/14 [==============================] - 2s 116ms/step - loss: 0.0046 - val_loss: 0.0087\n",
      "Epoch 62/100\n",
      "14/14 [==============================] - 2s 114ms/step - loss: 0.0056 - val_loss: 0.0120\n",
      "Epoch 63/100\n",
      "14/14 [==============================] - 2s 114ms/step - loss: 0.0070 - val_loss: 0.0134\n",
      "Epoch 64/100\n",
      "14/14 [==============================] - 2s 114ms/step - loss: 0.0058 - val_loss: 0.0090\n",
      "Epoch 65/100\n",
      "14/14 [==============================] - 2s 114ms/step - loss: 0.0034 - val_loss: 0.0140\n",
      "Epoch 66/100\n",
      "14/14 [==============================] - 2s 114ms/step - loss: 0.0027 - val_loss: 0.0095\n",
      "Epoch 67/100\n",
      "14/14 [==============================] - 2s 114ms/step - loss: 0.0037 - val_loss: 0.0115\n",
      "Epoch 68/100\n",
      "14/14 [==============================] - 2s 114ms/step - loss: 0.0026 - val_loss: 0.0082\n",
      "Epoch 69/100\n",
      "14/14 [==============================] - 2s 114ms/step - loss: 0.0033 - val_loss: 0.0126\n",
      "Epoch 70/100\n",
      "14/14 [==============================] - 2s 116ms/step - loss: 0.0019 - val_loss: 0.0174\n",
      "Epoch 71/100\n",
      "14/14 [==============================] - 2s 116ms/step - loss: 0.0022 - val_loss: 0.0099\n",
      "Epoch 72/100\n",
      "14/14 [==============================] - 2s 114ms/step - loss: 0.0018 - val_loss: 0.0078\n",
      "Epoch 73/100\n",
      "14/14 [==============================] - 2s 115ms/step - loss: 0.0013 - val_loss: 0.0193\n",
      "Epoch 74/100\n",
      "14/14 [==============================] - 2s 115ms/step - loss: 0.0030 - val_loss: 0.0084\n",
      "Epoch 75/100\n",
      "14/14 [==============================] - 2s 114ms/step - loss: 0.0015 - val_loss: 0.0100\n",
      "Epoch 76/100\n",
      "14/14 [==============================] - 2s 115ms/step - loss: 0.0033 - val_loss: 0.0121\n",
      "Epoch 77/100\n",
      "14/14 [==============================] - 2s 114ms/step - loss: 0.0120 - val_loss: 0.0175\n",
      "Epoch 78/100\n",
      "14/14 [==============================] - 2s 115ms/step - loss: 0.0115 - val_loss: 0.0148\n",
      "Epoch 79/100\n",
      "14/14 [==============================] - 2s 114ms/step - loss: 0.0179 - val_loss: 0.0227\n",
      "Epoch 80/100\n",
      "14/14 [==============================] - 2s 114ms/step - loss: 0.0083 - val_loss: 0.0070\n",
      "Epoch 81/100\n"
     ]
    },
    {
     "name": "stdout",
     "output_type": "stream",
     "text": [
      "14/14 [==============================] - 2s 115ms/step - loss: 0.0039 - val_loss: 0.0080\n",
      "Epoch 82/100\n",
      "14/14 [==============================] - 2s 115ms/step - loss: 0.0037 - val_loss: 0.0128\n",
      "Epoch 83/100\n",
      "14/14 [==============================] - 2s 114ms/step - loss: 0.0063 - val_loss: 0.0081\n",
      "Epoch 84/100\n",
      "14/14 [==============================] - 2s 114ms/step - loss: 0.0106 - val_loss: 0.0104\n",
      "Epoch 85/100\n",
      "14/14 [==============================] - 2s 116ms/step - loss: 0.0037 - val_loss: 0.0075\n",
      "Epoch 86/100\n",
      "14/14 [==============================] - 2s 115ms/step - loss: 0.0025 - val_loss: 0.0085\n",
      "Epoch 87/100\n",
      "14/14 [==============================] - 2s 116ms/step - loss: 0.0037 - val_loss: 0.0132\n",
      "Epoch 88/100\n",
      "14/14 [==============================] - 2s 116ms/step - loss: 0.0016 - val_loss: 0.0088\n",
      "Epoch 89/100\n",
      "14/14 [==============================] - 2s 116ms/step - loss: 0.0015 - val_loss: 0.0077\n",
      "Epoch 90/100\n",
      "14/14 [==============================] - 2s 116ms/step - loss: 0.0013 - val_loss: 0.0191\n",
      "Epoch 91/100\n",
      "14/14 [==============================] - 2s 115ms/step - loss: 0.0016 - val_loss: 0.0135\n",
      "Epoch 92/100\n",
      "14/14 [==============================] - 2s 114ms/step - loss: 0.0016 - val_loss: 0.0271\n",
      "Epoch 93/100\n",
      "14/14 [==============================] - 2s 115ms/step - loss: 0.0019 - val_loss: 0.0272\n",
      "Epoch 94/100\n",
      "14/14 [==============================] - 2s 115ms/step - loss: 0.0031 - val_loss: 0.0147\n",
      "Epoch 95/100\n",
      "14/14 [==============================] - 2s 115ms/step - loss: 0.0012 - val_loss: 0.0106\n",
      "Epoch 96/100\n",
      "14/14 [==============================] - 2s 114ms/step - loss: 0.0018 - val_loss: 0.0107\n",
      "Epoch 97/100\n",
      "14/14 [==============================] - 2s 116ms/step - loss: 0.0020 - val_loss: 0.0118\n",
      "Epoch 98/100\n",
      "14/14 [==============================] - 2s 114ms/step - loss: 0.0015 - val_loss: 0.0095\n",
      "Epoch 99/100\n",
      "14/14 [==============================] - 2s 116ms/step - loss: 0.0016 - val_loss: 0.0111\n",
      "Epoch 100/100\n",
      "14/14 [==============================] - 2s 115ms/step - loss: 0.0012 - val_loss: 0.0107\n"
     ]
    },
    {
     "data": {
      "text/plain": [
       "<tensorflow.python.keras.callbacks.History at 0x1ed9e06bb80>"
      ]
     },
     "execution_count": 29,
     "metadata": {},
     "output_type": "execute_result"
    }
   ],
   "source": [
    "model.fit(batch_size=10, x=X, y=y, epochs=100, validation_split=0.1)"
   ]
  },
  {
   "cell_type": "code",
   "execution_count": 30,
   "id": "f14a19ff",
   "metadata": {},
   "outputs": [
    {
     "name": "stdout",
     "output_type": "stream",
     "text": [
      "[[0.38890553]]  ->  0.41\n",
      "[[0.399869]]  ->  0.46\n",
      "[[0.40430868]]  ->  0.43\n",
      "[[0.4379349]]  ->  0.43\n",
      "[[0.3994701]]  ->  0.43\n",
      "[[0.8871509]]  ->  0.86\n",
      "[[0.7179425]]  ->  0.78\n",
      "[[0.953377]]  ->  0.94\n",
      "[[0.5508133]]  ->  0.62\n",
      "[[0.7658127]]  ->  0.73\n",
      "[[0.7018386]]  ->  0.72\n",
      "[[0.6832519]]  ->  0.65\n",
      "[[0.6799145]]  ->  0.67\n",
      "[[0.7132169]]  ->  0.82\n",
      "[[0.33140874]]  ->  0.38\n",
      "[[0.34865806]]  ->  0.39\n",
      "[[0.3136906]]  ->  0.4\n",
      "[[0.6111657]]  ->  0.7\n",
      "[[0.59109193]]  ->  0.68\n",
      "[[0.53353846]]  ->  0.6\n",
      "[[0.5379692]]  ->  0.61\n",
      "[[0.5224127]]  ->  0.61\n",
      "[[0.5124514]]  ->  0.61\n",
      "[[0.8301837]]  ->  0.89\n",
      "[[0.6258433]]  ->  0.64\n",
      "[[0.72613996]]  ->  0.74\n",
      "[[0.61847544]]  ->  0.61\n",
      "[[0.70971495]]  ->  0.81\n",
      "[[0.7348304]]  ->  0.79\n",
      "[[0.7014741]]  ->  0.8\n",
      "[[0.69231385]]  ->  0.79\n",
      "[[0.6930018]]  ->  0.76\n",
      "[[0.7193128]]  ->  0.76\n",
      "[[0.70606697]]  ->  0.76\n",
      "[[0.7168169]]  ->  0.77\n",
      "[[0.66394836]]  ->  0.71\n",
      "[[0.7431687]]  ->  0.79\n",
      "[[0.72840244]]  ->  0.79\n",
      "[[0.7252573]]  ->  0.79\n",
      "[[0.8872655]]  ->  0.95\n",
      "[[0.9920508]]  ->  0.96\n",
      "[[0.9983644]]  ->  0.96\n",
      "[[0.7116662]]  ->  0.8\n",
      "[[0.93120027]]  ->  0.97\n",
      "[[0.71895635]]  ->  0.81\n",
      "[[0.79959285]]  ->  0.9\n",
      "[[0.7166738]]  ->  0.79\n",
      "[[0.7286078]]  ->  0.79\n",
      "[[0.7521856]]  ->  0.8\n",
      "[[0.38095325]]  ->  0.45\n",
      "[[0.5777544]]  ->  0.65\n",
      "[[0.686458]]  ->  0.66\n",
      "[[0.6455681]]  ->  0.64\n",
      "[[0.63728565]]  ->  0.63\n",
      "[[0.6678069]]  ->  0.64\n",
      "[[0.63659143]]  ->  0.67\n",
      "[[0.63112795]]  ->  0.68\n",
      "[[0.7944022]]  ->  0.77\n",
      "[[0.7698826]]  ->  0.75\n",
      "[[0.8727647]]  ->  0.84\n",
      "[[0.87227905]]  ->  0.84\n",
      "[[0.5014459]]  ->  0.52\n",
      "[[0.8116958]]  ->  0.8\n",
      "[[0.63981164]]  ->  0.62\n",
      "[[0.5220004]]  ->  0.56\n",
      "[[0.70592123]]  ->  0.68\n",
      "[[0.6492364]]  ->  0.7\n",
      "[[0.60301054]]  ->  0.66\n",
      "[[0.63335204]]  ->  0.63\n",
      "[[0.57671297]]  ->  0.63\n",
      "[[0.6691895]]  ->  0.64\n",
      "[[0.67105967]]  ->  0.64\n",
      "[[0.6910813]]  ->  0.72\n",
      "[[0.6970161]]  ->  0.79\n",
      "[[0.4882356]]  ->  0.49\n",
      "[[0.43212622]]  ->  0.47\n",
      "[[0.53519124]]  ->  0.55\n",
      "[[0.5842328]]  ->  0.58\n",
      "[[0.5461011]]  ->  0.55\n",
      "[[0.8950755]]  ->  0.86\n",
      "[[0.807249]]  ->  0.78\n",
      "[[0.7680153]]  ->  0.81\n",
      "[[0.8125524]]  ->  0.77\n",
      "[[0.7482291]]  ->  0.78\n",
      "[[0.833014]]  ->  0.94\n",
      "[[0.8347271]]  ->  0.8\n",
      "[[0.8263571]]  ->  0.77\n",
      "[[0.8091155]]  ->  0.78\n",
      "[[0.75262415]]  ->  0.77\n",
      "[[0.74290204]]  ->  0.8\n",
      "[[0.8533996]]  ->  0.82\n",
      "[[0.7770317]]  ->  0.81\n",
      "[[0.8808205]]  ->  0.88\n",
      "[[1.0228815]]  ->  0.98\n",
      "[[0.8268694]]  ->  0.81\n",
      "[[0.75832415]]  ->  0.75\n",
      "[[0.7564159]]  ->  0.75\n",
      "[[0.65804434]]  ->  0.64\n",
      "[[0.67263097]]  ->  0.67\n",
      "[[0.59796405]]  ->  0.6\n",
      "[[0.60401535]]  ->  0.61\n",
      "[[0.6517304]]  ->  0.68\n",
      "[[0.6517694]]  ->  0.65\n",
      "[[0.67556214]]  ->  0.68\n",
      "[[0.5708295]]  ->  0.65\n",
      "[[0.64031744]]  ->  0.65\n",
      "[[0.60144675]]  ->  0.64\n",
      "[[0.60012716]]  ->  0.64\n",
      "[[0.6084088]]  ->  0.62\n",
      "[[0.70718825]]  ->  0.71\n",
      "[[0.60533404]]  ->  0.69\n",
      "[[0.59422755]]  ->  0.59\n",
      "[[0.6079065]]  ->  0.6\n",
      "[[0.55566955]]  ->  0.59\n",
      "[[0.59430695]]  ->  0.66\n",
      "[[0.6078061]]  ->  0.62\n",
      "[[0.6413853]]  ->  0.65\n",
      "[[0.62066424]]  ->  0.63\n",
      "[[0.6105331]]  ->  0.64\n",
      "[[0.83977014]]  ->  0.82\n",
      "[[0.6887871]]  ->  0.78\n",
      "[[0.7153532]]  ->  0.76\n",
      "[[0.7511725]]  ->  0.8\n",
      "[[0.9563368]]  ->  0.95\n",
      "[[0.9454523]]  ->  0.95\n",
      "[[0.9889176]]  ->  0.98\n",
      "[[0.9456387]]  ->  0.94\n",
      "[[0.79155827]]  ->  0.81\n",
      "[[0.89136916]]  ->  0.87\n",
      "[[0.7979358]]  ->  0.81\n",
      "[[0.84140503]]  ->  0.83\n",
      "[[0.77956635]]  ->  0.8\n",
      "[[0.87954736]]  ->  0.86\n",
      "[[0.709311]]  ->  0.59\n",
      "[[0.69737256]]  ->  0.6\n",
      "[[0.68270016]]  ->  0.56\n",
      "[[0.75415766]]  ->  0.79\n",
      "[[0.76117325]]  ->  0.78\n",
      "[[0.79066235]]  ->  0.81\n",
      "[[0.717759]]  ->  0.78\n",
      "[[0.71903825]]  ->  0.49\n",
      "[[0.69454396]]  ->  0.49\n",
      "[[0.69022775]]  ->  0.8\n",
      "[[0.731316]]  ->  0.74\n",
      "[[0.6768648]]  ->  0.67\n",
      "[[0.6973783]]  ->  0.66\n",
      "[[0.7252573]]  ->  0.64\n",
      "[[0.6771796]]  ->  0.65\n"
     ]
    }
   ],
   "source": [
    "model_output = []\n",
    "actual_output = []\n",
    "for count, img in enumerate(X):\n",
    "    model_output.append(model.predict(img.reshape(-1,IMG_SIZE,IMG_SIZE,3)))\n",
    "    actual_output.append(y[count])\n",
    "    print(model_output[count], \" -> \", actual_output[count])"
   ]
  },
  {
   "cell_type": "code",
   "execution_count": 31,
   "id": "aeebe935",
   "metadata": {},
   "outputs": [],
   "source": [
    "op = []\n",
    "for i in model_output:\n",
    "    op.append(list(i[0])[0]*10)"
   ]
  },
  {
   "cell_type": "code",
   "execution_count": 32,
   "id": "7de3893c",
   "metadata": {},
   "outputs": [],
   "source": [
    "unit1 = [round(i) for i in op]\n",
    "unit2 = [round(float(i)*10) for i in actual_output]"
   ]
  },
  {
   "cell_type": "markdown",
   "id": "76c59225",
   "metadata": {},
   "source": [
    "<h6> Making the data discrete and visualizing the data"
   ]
  },
  {
   "cell_type": "code",
   "execution_count": 34,
   "id": "cfdbd4be",
   "metadata": {},
   "outputs": [
    {
     "data": {
      "text/plain": [
       "<matplotlib.image.AxesImage at 0x1ed9e0e67f0>"
      ]
     },
     "execution_count": 34,
     "metadata": {},
     "output_type": "execute_result"
    },
    {
     "data": {
      "image/png": "[encoded data removed]",
      "text/plain": [
       "<Figure size 720x720 with 1 Axes>"
      ]
     },
     "metadata": {
      "needs_background": "light"
     },
     "output_type": "display_data"
    }
   ],
   "source": [
    "from sklearn.metrics import confusion_matrix\n",
    "results = confusion_matrix(unit1, unit2)\n",
    "plt.figure(figsize=(10,10))\n",
    "plt.imshow(results, cmap='binary')"
   ]
  },
  {
   "cell_type": "code",
   "execution_count": null,
   "id": "947476e5",
   "metadata": {},
   "outputs": [],
   "source": []
  },
  {
   "cell_type": "code",
   "execution_count": null,
   "id": "f62af16f",
   "metadata": {},
   "outputs": [],
   "source": []
  }
 ],
 "metadata": {
  "kernelspec": {
   "display_name": "Python 3",
   "language": "python",
   "name": "python3"
  },
  "language_info": {
   "codemirror_mode": {
    "name": "ipython",
    "version": 3
   },
   "file_extension": ".py",
   "mimetype": "text/x-python",
   "name": "python",
   "nbconvert_exporter": "python",
   "pygments_lexer": "ipython3",
   "version": "3.8.10"
  }
 },
 "nbformat": 4,
 "nbformat_minor": 5
}
